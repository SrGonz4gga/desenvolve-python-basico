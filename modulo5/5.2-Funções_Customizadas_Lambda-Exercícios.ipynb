{
 "cells": [
  {
   "cell_type": "markdown",
   "id": "cbdff5a5",
   "metadata": {},
   "source": [
    "# Módulo 5 - Funções\n",
    "\n",
    "## Aulas 5.2 - Funções Customizadas e 5.4 Funções ```lambda```"
   ]
  },
  {
   "cell_type": "markdown",
   "id": "28a3fee2",
   "metadata": {},
   "source": [
    "### Q1.\n",
    "\n",
    "- Sabendo que o código a seguir calcula o fatorial de n, escreva uma função chamada ```fatorial()``` que recebe um inteiro ```n``` como parâmetro e retorna o resultado do fatorial de ```n```. \n",
    "- No programa principal, peça ao usuário o valor de ```n```, chame a sua função e imprima o retorno.\n",
    "\n",
    "```python\n",
    "fat = 1\n",
    "for i in range(1, n+1):\n",
    "    fat *= i \n",
    "```"
   ]
  },
  {
   "cell_type": "code",
   "execution_count": 1,
   "id": "d126b3a5",
   "metadata": {},
   "outputs": [],
   "source": [
    "def fatorial (n):\n",
    "    for i in range (1,n):\n",
    "        n *= i \n",
    "    return n"
   ]
  },
  {
   "cell_type": "code",
   "execution_count": 2,
   "id": "032548bd-c154-4929-84bd-b71bb5bebb6e",
   "metadata": {},
   "outputs": [
    {
     "name": "stdin",
     "output_type": "stream",
     "text": [
      "Digite o valor do número inteiro para cálculo fatorial 5\n"
     ]
    },
    {
     "name": "stdout",
     "output_type": "stream",
     "text": [
      "120\n"
     ]
    }
   ],
   "source": [
    "n = int(input(\"Digite o valor do número inteiro para cálculo fatorial\"))\n",
    "resultado = fatorial(n)\n",
    "print(resultado)"
   ]
  },
  {
   "cell_type": "markdown",
   "id": "c0a1f599",
   "metadata": {},
   "source": [
    "### Q2.\n",
    "\n",
    "- Escreva uma função em Python chamada ```soma_quadrados``` que recebe dois números como parâmetros e retorna a soma dos seus quadrados. \n",
    "- No programa principal solicite ao usuário que insira dois números e utilize a função para exibir a soma dos quadrados."
   ]
  },
  {
   "cell_type": "code",
   "execution_count": 3,
   "id": "6dbddaad",
   "metadata": {},
   "outputs": [],
   "source": [
    "## Crie aqui a função soma_quadrados()\n",
    "def soma_quadrados(n1, n2):\n",
    "    return (n1*n1)+(n2*n2)"
   ]
  },
  {
   "cell_type": "code",
   "execution_count": 5,
   "id": "9175a7da",
   "metadata": {},
   "outputs": [
    {
     "name": "stdin",
     "output_type": "stream",
     "text": [
      "Digite um número inteiro 5\n",
      "Digite um número inteiro 6\n"
     ]
    },
    {
     "name": "stdout",
     "output_type": "stream",
     "text": [
      "A soma dos quadrados é 61\n"
     ]
    }
   ],
   "source": [
    "## Escreva aqui o programa principal e execute a célula\n",
    "n1 = int(input(\"Digite um número inteiro\"))\n",
    "n2 = int(input(\"Digite um número inteiro\"))\n",
    "\n",
    "resultado = soma_quadrados(n1, n2)\n",
    "print(f\"A soma dos quadrados é {resultado}\")"
   ]
  },
  {
   "cell_type": "markdown",
   "id": "6ba34ce0",
   "metadata": {},
   "source": [
    "### Q3.\n",
    "\n",
    "- Crie uma função em Python chamada ```soma_digitos``` que recebe um número inteiro como parâmetro e retorna a soma dos seus dígitos. Por exemplo, para o número 123, a função deve retornar 6, $(1 + 2 + 3)$.\n",
    "    - O desafio aqui é separar os dígitos de um número inteiro usando operações aritméticas <br> <br>\n",
    "\n",
    "- No programa principal solicite ao usuário que insira um número e utilize a função ```soma_digitos``` para calcular e exibir a soma dos seus dígitos."
   ]
  },
  {
   "cell_type": "code",
   "execution_count": 10,
   "id": "34838ebf",
   "metadata": {},
   "outputs": [],
   "source": [
    "## Crie aqui a função soma_digitos()\n",
    "def soma_digitos (n):\n",
    "    soma = 0\n",
    "    while (n!=0):\n",
    "        soma += n%10\n",
    "        n = n//10\n",
    "    return soma\n",
    "        "
   ]
  },
  {
   "cell_type": "code",
   "execution_count": 12,
   "id": "27c35b21",
   "metadata": {},
   "outputs": [
    {
     "name": "stdin",
     "output_type": "stream",
     "text": [
      "Digite um número 44434654\n"
     ]
    },
    {
     "name": "stdout",
     "output_type": "stream",
     "text": [
      "34\n"
     ]
    }
   ],
   "source": [
    "## Escreva aqui o programa principal e execute a célula\n",
    "n = int(input(\"Digite um número\"))\n",
    "resultado = soma_digitos(n)\n",
    "print(resultado)"
   ]
  },
  {
   "cell_type": "markdown",
   "id": "c318b159",
   "metadata": {},
   "source": [
    "### Q4.\n",
    "\n",
    "- Crie a função ```inverteValor()``` que recebe um inteiro de qualquer tamanho e retorna esse valor invertido usando apenas operações aritméticas\n",
    "- Crie a função ```verificaInverso()``` que recebe o valor original e o valor invertido e retorna verdadeiro se ambos forem igualmente par ou igualmente ímpar. Retorne falso caso contrário.\n",
    "- No programa principal, peça um valor do usuário e imprima o retorno de ambas as funções.\n"
   ]
  },
  {
   "cell_type": "code",
   "execution_count": 10,
   "id": "e4e47d1d",
   "metadata": {},
   "outputs": [],
   "source": [
    "## Crie aqui as funções inverteValor() e verificaInverso()\n",
    "def inverteValor(n):\n",
    "    inverso = 0\n",
    "    while (n > 0):\n",
    "        inverso += n%10\n",
    "        n = n//10\n",
    "        if (n > 0):\n",
    "            inverso *= 10\n",
    "    return inverso\n",
    "\n",
    "def verificaInverso(n,inverso):\n",
    "    if ((n%2 == 0) and (inverso%2 == 0)) or ((n%2 != 0) and (inverso%2 != 0)):\n",
    "        return True\n",
    "    else:\n",
    "        return False"
   ]
  },
  {
   "cell_type": "code",
   "execution_count": 11,
   "id": "a9514e56",
   "metadata": {},
   "outputs": [
    {
     "name": "stdin",
     "output_type": "stream",
     "text": [
      "Digite um número 234\n"
     ]
    },
    {
     "name": "stdout",
     "output_type": "stream",
     "text": [
      "O inverso do número é 432\n",
      "True\n"
     ]
    }
   ],
   "source": [
    "## Escreva aqui o programa principal e execute a célula\n",
    "n = int(input(\"Digite um número\"))\n",
    "inverso = inverteValor(n)\n",
    "print(\"O inverso do número é\", inverso)\n",
    "verifica = verificaInverso(n,inverso)\n",
    "print(verifica)"
   ]
  },
  {
   "cell_type": "markdown",
   "id": "329be966",
   "metadata": {},
   "source": [
    "### Q5.\n",
    "\n",
    "Você está desenvolvendo um programa para auxiliar em cálculos de geometria básica. Crie as seguintes funções:\n",
    "- A função ```calcula_perimetro_triangulo()``` que recebe três inteiros correspondentes aos lados de um triângulo e retorna o perímetro do triângulo, ou seja, a soma dos seus lados.\n",
    "- A função ```calcula_perimetro_circulo()``` que recebe um inteiro referente ao raio do círculo e retorna o perímetro do círculo, dado por $2 \\pi r$. Use a constante $\\pi$ da biblioteca ```math```.\n",
    "- A função ```calcula_perimetro_retangulo()``` que possui um parâmetro obrigatório ```lado1``` e um opcional ```lado2```, ambos inteiros. Se o valor opcional não for fornecido, significa que se trata de um quadrado. Sua função deve calcular e retornar o perímetro do retângulo, ou seja, a soma de seus lados. \n",
    "    - Para o quadrado, é dado por $4 \\times lado1$\n",
    "    - Para o retângulo é dado por $2 \\times lado1 + 2 \\times lado2$\n",
    "    \n",
    "- No programa principal apresente um menu com as opções disponíveis do seu sistema e uma quarta opção ```Sair```. Solicite ao usuário a opção desejada, solicite as entradas correspondentes à opção escolhida, invoque a respective função e apresente o seu retorno. Seu programa deve retornar ao menu até que o usuário escolha a opção ```Sair```\n",
    "\n",
    "Exemplo de interação:\n",
    "```\n",
    "1 - Calcular perímetro triângulo\n",
    "2 - Calcular perímetro círculo\n",
    "3 - Calcular perímetro retângulo\n",
    "4 - Sair\n",
    "\n",
    "Opção: 1\n",
    "Digite os três lados do triângulo:\n",
    "3\n",
    "4\n",
    "5\n",
    "O perímetro é: 12\n",
    "\n",
    "1 - Calcular perímetro triângulo\n",
    "2 - Calcular perímetro círculo\n",
    "3 - Calcular perímetro retângulo\n",
    "4 - Sair\n",
    "\n",
    "Opção: 3\n",
    "Informe os dois lados do retângulo. Se for um quadrado, digite 0 para o segundo valor:\n",
    "5\n",
    "0\n",
    "O perímetro é: 20\n",
    "\n",
    "1 - Calcular perímetro triângulo\n",
    "2 - Calcular perímetro círculo\n",
    "3 - Calcular perímetro retângulo\n",
    "4 - Sair\n",
    "\n",
    "Opção: 4\n",
    "```"
   ]
  },
  {
   "cell_type": "code",
   "execution_count": 3,
   "id": "04d2e167-c229-47fe-8aab-7cc16e65ba98",
   "metadata": {},
   "outputs": [],
   "source": [
    "# Crie aqui as funções \n",
    "def calcula_perimetro_triangulo(l1, l2, l3):\n",
    "    return l1+l2+l3\n",
    "\n",
    "def calcula_perimetro_circulo(r):\n",
    "    return 2*r*math.pi\n",
    "\n",
    "def calcula_perimetro_retangulo(l1, l2=None):\n",
    "    if l2 == None:\n",
    "        return l1*4\n",
    "    else:\n",
    "        return 2*l1+2*l2\n",
    "    \n",
    "\n"
   ]
  },
  {
   "cell_type": "code",
   "execution_count": 4,
   "id": "36269c71",
   "metadata": {},
   "outputs": [
    {
     "name": "stdout",
     "output_type": "stream",
     "text": [
      " 1 - Calcular perímetro triângulo\n",
      " 2 - Calcular perímetro círculo\n",
      " 3 - Calcular perímetro retângulo\n",
      " 4 - Sair\n"
     ]
    },
    {
     "name": "stdin",
     "output_type": "stream",
     "text": [
      "Qual a opção desejada? 1\n",
      "lado 1:  34\n",
      "lado 2:  56\n",
      "lado 3:  3\n"
     ]
    },
    {
     "name": "stdout",
     "output_type": "stream",
     "text": [
      "O perímetro do triângulo é:  93\n"
     ]
    }
   ],
   "source": [
    "## Escreva aqui o programa principal \n",
    "import math\n",
    "\n",
    "op = 0\n",
    "while (op > 4 or op < 1):\n",
    "    print(\"\"\" 1 - Calcular perímetro triângulo\n",
    " 2 - Calcular perímetro círculo\n",
    " 3 - Calcular perímetro retângulo\n",
    " 4 - Sair\"\"\")\n",
    "    op = int (input(\"Qual a opção desejada?\"))\n",
    "    \n",
    "if op == 1:\n",
    "    l1, l2, l3 = int(input(\"lado 1: \")),int(input(\"lado 2: \")), int(input(\"lado 3: \"))\n",
    "    perimetro_triangulo = calcula_perimetro_triangulo (l1, l2, l3)\n",
    "    print(\"O perímetro do triângulo é: \", perimetro_triangulo)\n",
    "\n",
    "elif op == 2:\n",
    "    r = float(input(\"Digite o raio do círculo\"))\n",
    "    perimetro_circulo = calcula_perimetro_circulo(r)\n",
    "    print(\"O perímetro do círculo é: \", perimetro_circulo)\n",
    "\n",
    "elif op == 3:\n",
    "    l1, l2 = int(input(\"lado 1: \")),int(input(\"lado 2: \"))\n",
    "    if l1 == l2:\n",
    "        perimetro_retangulo = calcula_perimetro_retangulo(l1)\n",
    "    else:\n",
    "        perimetro_retangulo = calcula_perimetro_retangulo(l1, l2)\n",
    "    print(\"O perímetro do retângulo é: \", perimetro_retangulo)\n",
    "\n",
    "elif op == 4:\n",
    "    print(\"Fim\")\n",
    "\n",
    "\n",
    "\n",
    "    "
   ]
  },
  {
   "cell_type": "markdown",
   "id": "3016bcc7",
   "metadata": {},
   "source": [
    "## Funções ```lambda```"
   ]
  },
  {
   "cell_type": "markdown",
   "id": "f9cdb8dd",
   "metadata": {},
   "source": [
    "### Q6.\n",
    "\n",
    "Crie uma função lambda para verificar se um número é par ou ímpar. Em seguida, solicite ao usuário um número indefinidos de valores (até que o usuário digite 0). Para cada valor de entrada, informe se é par ou ímpar.\n",
    "\n",
    "Exemplo de interação:\n",
    "```\n",
    "Digite os valores que deseja verificar a paridade (digite 0 para finalizar a entrada de dados):\n",
    "3\n",
    "ímpar\n",
    "8\n",
    "par\n",
    "12\n",
    "par\n",
    "5\n",
    "ímpar\n",
    "7ímpar\n",
    "```"
   ]
  },
  {
   "cell_type": "code",
   "execution_count": 29,
   "id": "e3c31a78",
   "metadata": {},
   "outputs": [
    {
     "name": "stdin",
     "output_type": "stream",
     "text": [
      "Digite um número (0 para encerrar o programa) 7\n"
     ]
    },
    {
     "name": "stdout",
     "output_type": "stream",
     "text": [
      "ímpar\n"
     ]
    },
    {
     "name": "stdin",
     "output_type": "stream",
     "text": [
      "Digite um número (0 para encerrar o programa) 2\n"
     ]
    },
    {
     "name": "stdout",
     "output_type": "stream",
     "text": [
      "par\n"
     ]
    },
    {
     "name": "stdin",
     "output_type": "stream",
     "text": [
      "Digite um número (0 para encerrar o programa) 3\n"
     ]
    },
    {
     "name": "stdout",
     "output_type": "stream",
     "text": [
      "ímpar\n"
     ]
    },
    {
     "name": "stdin",
     "output_type": "stream",
     "text": [
      "Digite um número (0 para encerrar o programa) 5\n"
     ]
    },
    {
     "name": "stdout",
     "output_type": "stream",
     "text": [
      "ímpar\n"
     ]
    },
    {
     "name": "stdin",
     "output_type": "stream",
     "text": [
      "Digite um número (0 para encerrar o programa) 8\n"
     ]
    },
    {
     "name": "stdout",
     "output_type": "stream",
     "text": [
      "par\n"
     ]
    },
    {
     "name": "stdin",
     "output_type": "stream",
     "text": [
      "Digite um número (0 para encerrar o programa) 6\n"
     ]
    },
    {
     "name": "stdout",
     "output_type": "stream",
     "text": [
      "par\n"
     ]
    },
    {
     "name": "stdin",
     "output_type": "stream",
     "text": [
      "Digite um número (0 para encerrar o programa) 5\n"
     ]
    },
    {
     "name": "stdout",
     "output_type": "stream",
     "text": [
      "ímpar\n"
     ]
    },
    {
     "name": "stdin",
     "output_type": "stream",
     "text": [
      "Digite um número (0 para encerrar o programa) 2\n"
     ]
    },
    {
     "name": "stdout",
     "output_type": "stream",
     "text": [
      "par\n"
     ]
    },
    {
     "name": "stdin",
     "output_type": "stream",
     "text": [
      "Digite um número (0 para encerrar o programa) 0\n"
     ]
    }
   ],
   "source": [
    "paridade = lambda x: \"par\" if x%2 == 0 else \"ímpar\"\n",
    "\n",
    "num = 1\n",
    "while (num != 0):\n",
    "    num = int(input(\"Digite um número (0 para encerrar o programa)\"))\n",
    "    if num == 0: break\n",
    "    resultado = paridade(num)\n",
    "    print(resultado)"
   ]
  },
  {
   "cell_type": "markdown",
   "id": "5a87474d",
   "metadata": {},
   "source": [
    "### Q7.\n",
    "\n",
    "Escreva um programa que pergunte ao usuário qual operação ele deseja: maior ou menor.\n",
    "Em seguida leia uma quantidade indefinida de valores do usuário, até que o usuário digite o valor zero.\n",
    "Apresente ao final o maior ou menor dos valores digitados de acordo com a escolha do usuário.\n",
    "\n",
    "**Sua solução deve incluir pelo menos uma função ```lambda```** \n",
    "\n",
    "Exemplo de interação:\n",
    "```\n",
    "Opções: (1) maior ou (2) menor?\n",
    "Opção: 1\n",
    "\n",
    "Digite os valores de entrada. Digite 0 para finalizar a entrada de valores.\n",
    "4\n",
    "12\n",
    "15\n",
    "1\n",
    "0\n",
    "\n",
    "O maior valor é: 15\n",
    "```"
   ]
  },
  {
   "cell_type": "code",
   "execution_count": 1,
   "id": "6ca5e8c2-8a58-4f25-a6b4-a23aa01d6962",
   "metadata": {},
   "outputs": [
    {
     "name": "stdin",
     "output_type": "stream",
     "text": [
      "Opção: (1) Maior ou (2) Menor? 2\n",
      "Digite números (0 para encerrar) 34\n",
      "Digite números (0 para encerrar) 4556\n",
      "Digite números (0 para encerrar) 234\n",
      "Digite números (0 para encerrar) 556\n",
      "Digite números (0 para encerrar) 78\n",
      "Digite números (0 para encerrar) 4556\n",
      "Digite números (0 para encerrar) 2347\n",
      "Digite números (0 para encerrar) 6756\n",
      "Digite números (0 para encerrar) 3454\n",
      "Digite números (0 para encerrar) -56\n",
      "Digite números (0 para encerrar) -56\n",
      "Digite números (0 para encerrar) -5656\n",
      "Digite números (0 para encerrar) -3454\n",
      "Digite números (0 para encerrar) -657\n",
      "Digite números (0 para encerrar) -6778\n",
      "Digite números (0 para encerrar) 3454\n",
      "Digite números (0 para encerrar) 76\n",
      "Digite números (0 para encerrar) 1\n",
      "Digite números (0 para encerrar) 0\n"
     ]
    },
    {
     "name": "stdout",
     "output_type": "stream",
     "text": [
      "O maior número digitado:  -inf\n",
      "O menor número digitado:  -6778\n"
     ]
    }
   ],
   "source": [
    "##### Escreva aqui o programa principal \n",
    "menorNum = float(\"inf\")\n",
    "maiorNum = float(\"-inf\")\n",
    "\n",
    "verifica_maior = lambda x: x if x > maiorNum else maiorNum \n",
    "verifica_menor = lambda x: x if x < menorNum else menorNum\n",
    "\n",
    "num = 1\n",
    "op = 0\n",
    "\n",
    "while (op != 1 and op != 2):\n",
    "    op = int(input(\"Opção: (1) Maior ou (2) Menor?\"))\n",
    "\n",
    "if op == 1:\n",
    "    while num != 0:\n",
    "        num = int(input(\"Digite números (0 para encerrar)\"))\n",
    "        maiorNum = verifica_maior(num)\n",
    "\n",
    "elif op == 2:\n",
    "    while num != 0:\n",
    "        num = int(input(\"Digite números (0 para encerrar)\"))\n",
    "        menorNum = verifica_menor(num)\n",
    "\n",
    "print(\"O maior número digitado: \", maiorNum)\n",
    "print(\"O menor número digitado: \", menorNum)\n",
    "    \n",
    "\n",
    "\n"
   ]
  },
  {
   "cell_type": "code",
   "execution_count": null,
   "id": "718f99ff-19e4-4482-98ac-87b2ac15587b",
   "metadata": {},
   "outputs": [],
   "source": []
  },
  {
   "cell_type": "code",
   "execution_count": null,
   "id": "0cdcb90c-be12-4fb0-8057-19feb13fa1a9",
   "metadata": {},
   "outputs": [],
   "source": []
  },
  {
   "cell_type": "code",
   "execution_count": null,
   "id": "d2e7f7c9-eac5-4753-aa6e-25bf40b424f2",
   "metadata": {},
   "outputs": [],
   "source": []
  },
  {
   "cell_type": "code",
   "execution_count": null,
   "id": "c5612922-b8e3-4e18-9aec-f1db65603ffe",
   "metadata": {},
   "outputs": [],
   "source": []
  }
 ],
 "metadata": {
  "kernelspec": {
   "display_name": "Python 3 (ipykernel)",
   "language": "python",
   "name": "python3"
  },
  "language_info": {
   "codemirror_mode": {
    "name": "ipython",
    "version": 3
   },
   "file_extension": ".py",
   "mimetype": "text/x-python",
   "name": "python",
   "nbconvert_exporter": "python",
   "pygments_lexer": "ipython3",
   "version": "3.12.1"
  }
 },
 "nbformat": 4,
 "nbformat_minor": 5
}
