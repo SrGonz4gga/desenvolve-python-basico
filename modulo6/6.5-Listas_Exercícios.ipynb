{
 "cells": [
  {
   "cell_type": "markdown",
   "id": "0d5035b5",
   "metadata": {},
   "source": [
    "# Listas\n",
    "\n",
    "## Aulas 6.1 a 6.5 "
   ]
  },
  {
   "cell_type": "markdown",
   "id": "0bdece85",
   "metadata": {},
   "source": [
    "### Q1. \n",
    "\n",
    "Usando a função embutida ```map``` e criando uma função ```lambda```, transforme uma lista com os raios de múltiplas circunferências em uma nova lista com as respectivas áreas. O cálculo de cada área é dado por: ```pi*(raio**2)```\n",
    "- Use a constante pi da biblioteca math \n",
    "- Arredonde o resultado para 2 casas decimais\n"
   ]
  },
  {
   "cell_type": "code",
   "execution_count": 21,
   "id": "0a258eba",
   "metadata": {},
   "outputs": [
    {
     "name": "stdout",
     "output_type": "stream",
     "text": [
      "[7.07, 2.01, 16.62, 78.54]\n"
     ]
    }
   ],
   "source": [
    "## Complete a solução\n",
    "import math \n",
    "raios = [1.5, 0.8, 2.3, 5.0]\n",
    "areas = map(lambda n: round((n**2)*math.pi,2), raios)\n",
    "print(list(areas))\n",
    "      \n",
    "\n",
    "## Complete a solução\n"
   ]
  },
  {
   "cell_type": "markdown",
   "id": "649a5082",
   "metadata": {},
   "source": [
    "### Q2. \n",
    "\n",
    "Crie uma função customizada e aplique a função embutida ```filter``` para operar em uma lista de listas contendo os lados de múltiplos triângulos. Construa uma nova lista contendo apenas os triângulos equiláteros, ou seja, com os três lados iguais.\n"
   ]
  },
  {
   "cell_type": "code",
   "execution_count": 22,
   "id": "47cb0573",
   "metadata": {},
   "outputs": [
    {
     "name": "stdout",
     "output_type": "stream",
     "text": [
      "[[2, 2, 2], [4, 4, 4]]\n"
     ]
    }
   ],
   "source": [
    "## Crie a função customizada\n",
    "def testa_equilatero(lados):\n",
    "    return lados[0] == lados [1] == lados[2]\n",
    "    \n",
    "    ### \n",
    "\n",
    "### Usando filter, aplique a função customizada aos seguintes triangulos\n",
    "triangulos  = [[2,2,2], [3,4,5], [3,2,2],[4,4,4]]\n",
    "equilateros = filter(testa_equilatero, triangulos)\n",
    "print(list(equilateros))"
   ]
  },
  {
   "cell_type": "markdown",
   "id": "bb62d219",
   "metadata": {},
   "source": [
    "### Q3. \n",
    "Crie uma função chamada ```ordena_por_comprimento``` que aceite uma lista de strings e a ordene com base no comprimento das strings, do menor para o maior. Utilize a função ```sorte``` e uma expressão ```lambda```."
   ]
  },
  {
   "cell_type": "code",
   "execution_count": 32,
   "id": "add41556",
   "metadata": {},
   "outputs": [
    {
     "name": "stdout",
     "output_type": "stream",
     "text": [
      "['Sol', 'Joao', 'Jose', 'Luna', 'Enzo', 'Maria', 'Bento', 'Gabriela', 'Fernanda']\n"
     ]
    }
   ],
   "source": [
    "### crie a função ordena_por_comprimento e retorne a lista resultado\n",
    "def ordena_por_comprimento(nome):\n",
    "    return sorted(nome, key = lambda x: len(x))\n",
    "\n",
    "### aplique sua função à seguinte lista e imprima o resultado\n",
    "nomes = [\"Joao\", \"Maria\", \"Jose\", \"Gabriela\", \"Sol\", \"Luna\", \"Bento\", \"Enzo\", \"Fernanda\"]\n",
    "ordenada = ordena_por_comprimento(nomes)\n",
    "print(ordenada)\n",
    "\n"
   ]
  },
  {
   "cell_type": "markdown",
   "id": "8710b1a7",
   "metadata": {},
   "source": [
    "### Q4.\n",
    "\n",
    "Crie uma lista de listas (uma matriz de 2 dimensões) de tamanho $n \\times n$, com $n$ dado pelo usuário. Cada elemento da matriz deve ser o produto dos índices da linha pela coluna.\n",
    "\n",
    "Exemplo:\n",
    "```\n",
    "Digite n: 4\n",
    "Matriz:\n",
    "[[0, 0, 0, 0],\n",
    " [0, 1, 2, 3],\n",
    " [0, 2, 4, 6],\n",
    " [0, 3, 6, 9]]\n",
    "```"
   ]
  },
  {
   "cell_type": "code",
   "execution_count": null,
   "id": "0b7ee921",
   "metadata": {},
   "outputs": [],
   "source": [
    "# Implemente sua solução aqui"
   ]
  },
  {
   "cell_type": "markdown",
   "id": "f41781df",
   "metadata": {},
   "source": [
    "### Q5.\n",
    "\n",
    "Dada uma lista de números inteiros, implemente uma função em Python chamada ```pares_unicos``` que encontre e retorne todos os pares únicos de elementos na lista cuja soma seja igual a um determinado valor. Considere que a ordem dos pares não é relevante."
   ]
  },
  {
   "cell_type": "code",
   "execution_count": 2,
   "id": "7a76f765",
   "metadata": {},
   "outputs": [],
   "source": [
    "def pares_unicos(lista, soma_desejada):\n",
    "    parceiros_encontrados = set()\n",
    "    pares_unicos = []\n",
    "\n",
    "    for i, numero in enumerate(lista):\n",
    "        complemento = soma_desejada - numero\n",
    "\n",
    "        if complemento in lista and complemento not in parceiros_encontrados:\n",
    "            pares_unicos.append((numero, complemento))\n",
    "            parceiros_encontrados.add(numero)\n",
    "\n",
    "    return pares_unicos\n"
   ]
  },
  {
   "cell_type": "code",
   "execution_count": 3,
   "id": "00260c1f-6e8f-41b4-8bbe-fac41912a627",
   "metadata": {},
   "outputs": [
    {
     "name": "stdout",
     "output_type": "stream",
     "text": [
      "Lista original: [1, 3, 9, 3, -2, 8, -8, 2, -2, -4, -3, 6, 8, 0, 9, 9, 8, 8, -3, 5]\n",
      "Lista final: [1, 3, 9, 3, 6, 8, 0, 9, 9, 8, 8, -3, 5]\n"
     ]
    }
   ],
   "source": [
    "import random\n",
    "\n",
    "lista_numeros = [random.randint(-10, 10) for _ in range(20)]\n",
    "\n",
    "print(\"Lista original:\", lista_numeros)\n",
    "\n",
    "maior_negativos = None\n",
    "inicio_negativos = None\n",
    "contagem_negativos = 0\n",
    "\n",
    "for i, numero in enumerate(lista_numeros):\n",
    "    if numero < 0:\n",
    "        if inicio_negativos is None:\n",
    "            inicio_negativos = i\n",
    "        contagem_negativos += 1\n",
    "    else:\n",
    "        if contagem_negativos > 0:\n",
    "            if maior_negativos is None or contagem_negativos > maior_negativos:\n",
    "                maior_negativos = contagem_negativos\n",
    "                fim_negativos = i - 1\n",
    "\n",
    "        contagem_negativos = 0\n",
    "\n",
    "if maior_negativos is not None:\n",
    "    del lista_numeros[inicio_negativos:fim_negativos + 1]\n",
    "\n",
    "print(\"Lista final:\", lista_numeros)\n"
   ]
  },
  {
   "cell_type": "markdown",
   "id": "87e44893",
   "metadata": {},
   "source": [
    "### Q5.\n",
    "\n",
    "Escreva um programa para encontrar a diferença entre duas listas, incluindo elementos duplicados.\n",
    "\n",
    "Ex:\n",
    "```\n",
    "Listas originais: \n",
    "[1, 1, 2, 3, 3, 4, 4, 5, 6, 7]\n",
    "[1, 1, 2, 4, 5, 6]\n",
    "Diferença entre as listas:\n",
    "[3, 3, 4, 7]\n",
    "```"
   ]
  },
  {
   "cell_type": "code",
   "execution_count": 4,
   "id": "7edc027c",
   "metadata": {},
   "outputs": [
    {
     "name": "stdout",
     "output_type": "stream",
     "text": [
      "Elementos diferentes: {1, 2, 7, 8}\n"
     ]
    }
   ],
   "source": [
    "def encontrar_diferencas(lista1, lista2):\n",
    "  diferencas = set(lista1) ^ set(lista2)\n",
    "  return diferencas\n",
    "\n",
    "lista1 = [1, 2, 3, 4, 5, 6]\n",
    "lista2 = [3, 4, 5, 6, 7, 8]\n",
    "\n",
    "diferencas_encontradas = encontrar_diferencas(lista1, lista2)\n",
    "print(\"Elementos diferentes:\", diferencas_encontradas)"
   ]
  },
  {
   "cell_type": "markdown",
   "id": "f4c4236d",
   "metadata": {},
   "source": [
    "### Q6.\n",
    "\n",
    "Dada uma lista aleatória, escreva um programa que separa os valores em listas menores de acordo com o tamanho solicitado. Caso não seja possível repartir igualmente a lista original, a última sublista deve conter os elementos remanescentes, como indicado no exemplo a seguir.\n",
    "\n",
    "Note que seu programa deve continuar executando em um laço infinito até que o usuário informe o tamanho 0 na entrada solicitada.\n",
    "\n",
    "```\n",
    "Lista original:\n",
    "[12, 45, 23, 67, 78, 90, 45, 32, 100, 76, 38, 62, 73, 29, 83]\n",
    "\n",
    "Tamanho para divisão: 3\n",
    "Subslistas:\n",
    "[[12, 45, 23], [67, 78, 90], [45, 32, 100], [76, 38, 62], [73, 29, 83]]\n",
    "\n",
    "Tamanho para divisão: 4\n",
    "Subslistas: [[12, 45, 23, 67], [78, 90, 45, 32], [100, 76, 38, 62], [73, 29, 83]]\n",
    "\n",
    "Tamanho para divisão: 0\n",
    "```"
   ]
  },
  {
   "cell_type": "code",
   "execution_count": 6,
   "id": "792563de",
   "metadata": {},
   "outputs": [
    {
     "name": "stdin",
     "output_type": "stream",
     "text": [
      "Tamanho das sublistas (0 para sair):  3\n"
     ]
    },
    {
     "name": "stdout",
     "output_type": "stream",
     "text": [
      "Lista original: [58, 4, 99, 93, 87, 58, 28, 71, 51, 85, 45, 95, 31, 71, 31, 41, 91, 5, 8, 27]\n",
      "Sublistas: [[58, 4, 99], [93, 87, 58], [28, 71, 51], [85, 45, 95], [31, 71, 31], [41, 91, 5], [8, 27]]\n"
     ]
    },
    {
     "name": "stdin",
     "output_type": "stream",
     "text": [
      "Tamanho das sublistas (0 para sair):  0\n"
     ]
    }
   ],
   "source": [
    "import random\n",
    "\n",
    "def dividir_lista(lista, tamanho):\n",
    "  sublistas = []\n",
    "  for i in range(0, len(lista), tamanho):\n",
    "    sublistas.append(lista[i:i + tamanho])\n",
    "  return sublistas\n",
    "\n",
    "while True:\n",
    "  tamanho = input(\"Tamanho das sublistas (0 para sair): \")\n",
    "  if tamanho == \"0\":\n",
    "    break\n",
    "\n",
    "  try:\n",
    "    tamanho = int(tamanho)\n",
    "  except ValueError:\n",
    "    print(\"Entrada inválida. Digite um número inteiro.\")\n",
    "    continue\n",
    "\n",
    "  lista = [random.randint(1, 100) for _ in range(20)]\n",
    "  print(f\"Lista original: {lista}\")\n",
    "  sublistas = dividir_lista(lista, tamanho)\n",
    "  print(f\"Sublistas: {sublistas}\")\n",
    "\n"
   ]
  },
  {
   "cell_type": "markdown",
   "id": "c65be32f",
   "metadata": {},
   "source": [
    "### Q7.\n",
    "\n",
    "Você está desenvolvendo um programa para determinar o vencedor de um jogo da velha. Escreva uma função ```avalia_tabuleiro()``` que recebe uma lista representando o estado atual do tabuleiro e determina se há um vencedor. \n",
    "\n",
    "A lista terá 3 sublistas, cada uma representando uma linha do tabuleiro. Cada elemento das sublistas pode ser 'X', 'O' ou vazio (' ').\n",
    "\n",
    "O programa deve imprimir o vencedor ('X', 'O'), se houver um, ou \"Empate\" se não houver vencedor. Um vencedor é determinado se houver três 'X' ou três 'O' em linha (horizontal, vertical ou diagonal).\n",
    "\n",
    "Exemplo:\n",
    "```python\n",
    "tabuleiro = [\n",
    "    ['X', 'O', 'X'],\n",
    "    [' ', 'X', 'O'],\n",
    "    ['O', ' ', 'O']\n",
    "]\n",
    "```\n",
    "O resultado seria \"Empate\", pois não há um vencedor no exemplo fornecido. \n",
    "\n",
    "Exemplo 2:\n",
    "```python\n",
    "tabuleiro = [\n",
    "    ['O', 'X', 'O'],\n",
    "    ['X', 'O', 'X'],\n",
    "    ['X', ' ', 'O']\n",
    "]\n",
    "```\n",
    "O resultado seria \"O\", pois 'O' venceu na diagonal central."
   ]
  },
  {
   "cell_type": "code",
   "execution_count": null,
   "id": "720ca24d",
   "metadata": {},
   "outputs": [],
   "source": [
    "### Escreva a função avalia_tabuleiro()\n",
    "\n",
    "\n",
    "\n",
    "\n",
    "### teste a função nos seguintes tabuleiros\n",
    "\n",
    "tabuleiro1 = [\n",
    "    ['X', 'O', 'X'],\n",
    "    [' ', 'X', 'O'],\n",
    "    ['O', ' ', 'X']\n",
    "]\n",
    "\n",
    "tabuleiro2 = [\n",
    "    ['X', 'O', 'O'],\n",
    "    ['X', 'X', 'O'],\n",
    "    ['X', 'O', 'X']\n",
    "]\n",
    "\n",
    "tabuleiro3 = [\n",
    "    [' ', ' ', ' '],\n",
    "    ['X', ' ', 'O'],\n",
    "    ['O', 'X', 'X']\n",
    "]\n",
    "\n",
    "tabuleiro4 = [\n",
    "    ['O', 'O', 'O'],\n",
    "    ['X', ' ', 'X'],\n",
    "    ['O', 'X', 'X']\n",
    "]\n",
    "\n",
    "tabuleiro5 = [\n",
    "    ['X', 'X', 'O'],\n",
    "    ['X', ' ', 'O'],\n",
    "    ['O', 'O', 'X']\n",
    "]"
   ]
  }
 ],
 "metadata": {
  "kernelspec": {
   "display_name": "Python 3 (ipykernel)",
   "language": "python",
   "name": "python3"
  },
  "language_info": {
   "codemirror_mode": {
    "name": "ipython",
    "version": 3
   },
   "file_extension": ".py",
   "mimetype": "text/x-python",
   "name": "python",
   "nbconvert_exporter": "python",
   "pygments_lexer": "ipython3",
   "version": "3.12.1"
  }
 },
 "nbformat": 4,
 "nbformat_minor": 5
}
